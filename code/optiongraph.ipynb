{
 "cells": [
  {
   "cell_type": "code",
   "execution_count": 4,
   "id": "ef5f96c3",
   "metadata": {},
   "outputs": [],
   "source": [
    "from cpmpy import *\n",
    "import networkx as nx\n",
    "import matplotlib.pyplot as plt\n",
    "from networkx.drawing.nx_agraph import graphviz_layout\n",
    "\n",
    "def findRels(arl,n=0):\n",
    "  \"\"\" find all congruence relations of an optiongraph\n",
    "  arl is a list of arrows\n",
    "  vertices computed from arl unless n>0\n",
    "  if n>0 vertex then list is range(n)\n",
    "  \"\"\"\n",
    "  if n==0:\n",
    "    V=list({p for ar in arl for p in ar})\n",
    "  else:\n",
    "     V=list(range(n))\n",
    "  Opt={p:{y for x,y in arl if p==x} for p in V}\n",
    "  k=len(V)\n",
    "    \n",
    "  mdl=Model()\n",
    "  # class number\n",
    "  cl={p:intvar(1,k) for p in V}\n",
    "    \n",
    "  # constraints\n",
    "  mdl+=cl[V[0]]==1\n",
    "  for i in range(1,len(V)):\n",
    "    mdl+= cl[V[i]] <= 1+max([cl[V[j]] for j in range(i)])\n",
    "\n",
    "  for p1 in V:\n",
    "    for p2 in V:\n",
    "      if p1<p2:\n",
    "        for q1 in Opt[p1]:\n",
    "          mdl+= (cl[p1]==cl[p2]).implies(any([cl[q1]==cl[q2] for q2 in Opt[p2]]))\n",
    "        for q2 in Opt[p2]:\n",
    "          mdl+= (cl[p1]==cl[p2]).implies(any([cl[q2]==cl[q1] for q1 in Opt[p1]]))\n",
    "\n",
    "  # print(mdl)\n",
    "  sols=[]\n",
    "\n",
    "  def pr_sol():\n",
    "    result={p:cl[p].value() for p in V}\n",
    "    sols.append(result)\n",
    "    \n",
    "  mdl.solveAll(display=pr_sol)\n",
    "  return sols\n",
    "\n",
    "def larger(sols,i,j):\n",
    "   \"\"\" compare two congruence relations \"\"\"\n",
    "   sol1=sols[i]\n",
    "   sol2=sols[j]\n",
    "   for k in sol1:\n",
    "      for l in sol1:\n",
    "         if (sol2[k]==sol2[l]) and sol1[k]!=sol1[l]:\n",
    "            return False\n",
    "   return True\n",
    "\n",
    "def draw_hasse_diagram(sols):\n",
    "    \"\"\" print the Hasse diagram of the lattice of congruence relations \"\"\"\n",
    "    poset=list(range(len(sols)))\n",
    "    G=nx.DiGraph()\n",
    "    G.add_nodes_from(poset)\n",
    "    for i in poset:\n",
    "        for j in poset:\n",
    "            if i!=j and larger(sols,i,j) and not any(larger(sols,i,k) and larger (sols,k,j) for k in poset if (i!=k) and (k!=j)):\n",
    "                G.add_edge(i,j)\n",
    "    pos=nx.spring_layout(G)\n",
    "    pos=graphviz_layout(G,prog='dot')\n",
    "    plt.figure(figsize=[1.5,1.5])\n",
    "    nx.draw(G, pos, with_labels=True, node_size=50, node_color='skyblue')\n",
    "    plt.show()\n",
    "\n",
    "def print_sol(sol):\n",
    "  \"\"\" print congruence relation as nontrivial classes \"\"\"\n",
    "  print('|',end='')\n",
    "  kul=sorted(sol.keys())\n",
    "  for a in set(sol.values()):\n",
    "    vs=[v for v in kul if sol[v]==a]\n",
    "    if len(vs)>1:\n",
    "      print(*vs,end='|')\n",
    "  print() \n",
    "\n",
    "def draw_q(sol,arl):\n",
    "  \"\"\" draw a quotient optiongraph \"\"\"\n",
    "  arlq=sorted(list({(sol[p],sol[q]) for (p,q) in arl}))\n",
    "  plt.figure(figsize=[1.3,1.3])\n",
    "  Dq=nx.DiGraph()\n",
    "  Dq.add_edges_from(arlq)\n",
    "  # pos=nx.circular_layout(Dq)\n",
    "  # pos=nx.spring_layout(Dq,iterations=10000)\n",
    "  pos=graphviz_layout(Dq,prog='neato')\n",
    "  nx.draw(Dq,pos,with_labels=True, arrows=True)\n",
    "  plt.show()\n",
    "\n",
    "def analyze(arl):\n",
    "  \"\"\" analyze an optiongraph given with a list of arrows \"\"\"\n",
    "  sols=findRels(arl)\n",
    "  plt.figure(figsize=[2.1,2.1])\n",
    "  D=nx.DiGraph()\n",
    "  D.add_edges_from(arl)\n",
    "  # pos=nx.circular_layout(D)\n",
    "  # pos=nx.spring_layout(D,iterations=10000)\n",
    "  pos=graphviz_layout(D,prog='neato')\n",
    "  nx.draw(D,pos,with_labels=True, arrows=True,node_color='lightgreen')\n",
    "  plt.show()\n",
    "  draw_hasse_diagram(sols)\n",
    "  for i,sol in enumerate(sols):\n",
    "    print(i,':',end='  ')\n",
    "    print_sol(sol)\n",
    "  return sols"
   ]
  },
  {
   "cell_type": "markdown",
   "id": "09b67bd0",
   "metadata": {},
   "source": [
    "Figure 1"
   ]
  },
  {
   "cell_type": "code",
   "execution_count": 5,
   "id": "7520f71a",
   "metadata": {},
   "outputs": [
    {
     "data": {
      "image/png": "[encoded data removed]",
      "text/plain": [
       "<Figure size 151.2x151.2 with 1 Axes>"
      ]
     },
     "metadata": {},
     "output_type": "display_data"
    },
    {
     "data": {
      "image/png": "[encoded data removed]",
      "text/plain": [
       "<Figure size 108x108 with 1 Axes>"
      ]
     },
     "metadata": {},
     "output_type": "display_data"
    },
    {
     "name": "stdout",
     "output_type": "stream",
     "text": [
      "0 :  |w z|\n",
      "1 :  |\n",
      "2 :  |s t|\n",
      "3 :  |w z|s t|\n",
      "4 :  |a b|w z|s t|\n",
      "5 :  |a b|s t|\n"
     ]
    }
   ],
   "source": [
    "arl=[('a','b'),('a','s'),('b','t'),('a','a'),('b','a'),('a','z'),('b','z'),('z','z'),('w','z'),('w','w'),('c','s'),('c','t')]\n",
    "sols=analyze(arl)"
   ]
  },
  {
   "cell_type": "markdown",
   "id": "5e2137c2",
   "metadata": {},
   "source": [
    "Figure 7"
   ]
  },
  {
   "cell_type": "code",
   "execution_count": 6,
   "id": "a2b8daf7",
   "metadata": {},
   "outputs": [
    {
     "data": {
      "image/png": "[encoded data removed]",
      "text/plain": [
       "<Figure size 151.2x151.2 with 1 Axes>"
      ]
     },
     "metadata": {},
     "output_type": "display_data"
    },
    {
     "data": {
      "image/png": "[encoded data removed]",
      "text/plain": [
       "<Figure size 108x108 with 1 Axes>"
      ]
     },
     "metadata": {},
     "output_type": "display_data"
    },
    {
     "name": "stdout",
     "output_type": "stream",
     "text": [
      "0 :  |a y|c x|\n",
      "1 :  |a y|\n",
      "2 :  |c x|\n",
      "3 :  |a b c x y|\n",
      "4 :  |a b c y|\n",
      "5 :  |a b c x|\n",
      "6 :  |\n",
      "7 :  |a b c|x y|\n",
      "8 :  |a b c|\n"
     ]
    },
    {
     "data": {
      "image/png": "[encoded data removed]",
      "text/plain": [
       "<Figure size 93.6x93.6 with 1 Axes>"
      ]
     },
     "metadata": {},
     "output_type": "display_data"
    }
   ],
   "source": [
    "arl=[('a','b'),('b','c'),('c','a'),('x','a'),('y','b')]\n",
    "sols=analyze(arl)\n",
    "draw_q(sols[8],arl)"
   ]
  }
 ],
 "metadata": {
  "kernelspec": {
   "display_name": "Python 3",
   "language": "python",
   "name": "python3"
  },
  "language_info": {
   "codemirror_mode": {
    "name": "ipython",
    "version": 3
   },
   "file_extension": ".py",
   "mimetype": "text/x-python",
   "name": "python",
   "nbconvert_exporter": "python",
   "pygments_lexer": "ipython3",
   "version": "3.10.12"
  }
 },
 "nbformat": 4,
 "nbformat_minor": 5
}
